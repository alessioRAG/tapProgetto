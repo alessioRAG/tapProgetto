{
 "cells": [
  {
   "cell_type": "markdown",
   "id": "ebdd7396-e626-4ee2-be1d-7401d0cdb841",
   "metadata": {},
   "source": [
    "FantaHelp\n",
    "\n",
    "Questo progetto è nato con lo scopo di aiutare tutti quei fantallenatori in preda al panico nella scelta del proprio attaccante.\n",
    "Spesso i giocatori, in alcune fasi della stagione, rendono più o meno di quanto ci si aspetti, andando a over/under-performare e rischiando di compromettere un'intera stagione.\n",
    "\n",
    "L'obiettivo di questo software è supportare la scelta dei giocatori senza basarsi unicamente sul numero di gol e assist.\n",
    "Infatti, i dati presi in considerazione per la previsione finale includono gol e assist attesi, piuttosto che solo sul numero di reti segnate.\n",
    "\n",
    "Fase 1: Raccolta e Preprocessing dei Dati\n",
    "I dati aggiornati sull'attuale stagione vengono ottenuti dal sito Fbref, che fornisce anche le statistiche utili per l'addestramento del modello.\n",
    "Una volta raccolti, i dati vengono puliti dai campi inutili attraverso Logstash, che provvede a inviarli a due diversi topic Kafka:\n",
    "Uno per i dati relativi alla squadra di appartenenza.\n",
    "Uno per i giocatori e le loro statistiche.\n",
    "\n",
    "Fase 2: Addestramento e Applicazione del Modello\n",
    "Il cuore del progetto è basato su Apache Spark e Spark ML.\n",
    "Vengono addestrati due modelli di regressione lineare, uno per i gol attesi e uno per gli assist attesi.\n",
    "Una volta ottenuti i modelli allenati, questi vengono applicati ai dati ricevuti dai topic Kafka, aggiungendo così una colonna con la previsione dei gol e degli assist attesi per il finale di stagione.\n",
    "\n",
    "Fase 3: Visualizzazione e Analisi\n",
    "I dataframe risultanti vengono inviati al topic \"fantahelp\" su Elasticsearch, in modo da garantirne la visualizzazione tramite una dashboard Kibana.\n",
    "La dashboard Kibana presenta due grafici a barre, che mostrano:\n",
    "I 10 migliori marcatori previsti a fine stagione.\n",
    "I 10 migliori assist-man previsti a fine stagione.\n",
    "Questo aiuterà il fantallenatore a fare scelte più consapevoli, evitando di basarsi unicamente sui dati storici di gol e assist.\n"
   ]
  }
 ],
 "metadata": {
  "kernelspec": {
   "display_name": "",
   "name": ""
  },
  "language_info": {
   "name": ""
  }
 },
 "nbformat": 4,
 "nbformat_minor": 5
}
